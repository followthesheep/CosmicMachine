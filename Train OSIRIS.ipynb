{
 "cells": [
  {
   "cell_type": "code",
   "execution_count": 3,
   "metadata": {
    "collapsed": true
   },
   "outputs": [],
   "source": [
    "from sklearn.tree import DecisionTreeClassifier\n",
    "from sklearn.ensemble import RandomForestClassifier\n",
    "from sklearn import metrics\n",
    "import matplotlib.pyplot as plt\n",
    "from astropy.io import fits\n",
    "import numpy as np\n",
    "import os\n",
    "%matplotlib inline\n"
   ]
  },
  {
   "cell_type": "code",
   "execution_count": 67,
   "metadata": {},
   "outputs": [
    {
     "name": "stdout",
     "output_type": "stream",
     "text": [
      "points saved for testing: 500\n",
      "(500, 25)\n",
      "(1500,)\n",
      "(2326, 25)\n",
      "(5251, 25)\n",
      "(39085, 25)\n",
      "minimum number of training set: 2326\n",
      "(2325, 25)\n",
      "(2325, 25)\n",
      "(2325, 25)\n",
      "(6975,)\n",
      "[0 0 0 0 0 0 0 0 0 0]\n",
      "(6975, 25)\n"
     ]
    }
   ],
   "source": [
    "directory = 'data/training/'\n",
    "\n",
    "# location of the training data\n",
    "cosmic_file = os.path.join(directory,'s170517_a018002_cosmic_cube.fits')\n",
    "valid_file = os.path.join(directory,'s170517_a018002_valid_cube.fits')\n",
    "oh_file = os.path.join(directory,'s170518_a023002_ohline_cube.fits')\n",
    "\n",
    "cosmic_cube = fits.getdata(cosmic_file)\n",
    "valid_cube = fits.getdata(valid_file)\n",
    "oh_cube = fits.getdata(oh_file)\n",
    "\n",
    "# prep that data by reshaping and transposing so that it is of the form [nsamples, nfeatures]\n",
    "cosmic_training = np.transpose(cosmic_cube.reshape(-1,cosmic_cube.shape[-1]))\n",
    "valid_training = np.transpose(valid_cube.reshape(-1,valid_cube.shape[-1]))\n",
    "oh_training = np.transpose(oh_cube.reshape(-1,oh_cube.shape[-1]))\n",
    "\n",
    "ntests = 500  # number of points to keep for testing\n",
    "cosmic_test = cosmic_training[0:ntests,:]\n",
    "valid_test = valid_training[0:ntests,:]\n",
    "oh_test = valid_training[0:ntests,:]\n",
    "\n",
    "testing = np.append(cosmic_test,valid_test,axis=0)\n",
    "testing = np.append(testing,oh_test,axis=0)\n",
    "\n",
    "test_labels = np.append(np.zeros(cosmic_test.shape[0],dtype=int),\n",
    "                   np.ones(valid_test.shape[0],dtype=int))\n",
    "test_labels = np.append(test_labels,np.zeros(oh_test.shape[0],dtype=int)+1)\n",
    "\n",
    "print(\"points saved for testing: \"+str(ntests))\n",
    "print(cosmic_test.shape)\n",
    "print(test_labels.shape)\n",
    "\n",
    "# use the rest for training\n",
    "cosmic_training = cosmic_training[ntests:,:]\n",
    "valid_training = valid_training[ntests:,:]\n",
    "oh_training = oh_training[ntests:,:]\n",
    "\n",
    "print(cosmic_training.shape)\n",
    "print(valid_training.shape)\n",
    "print(oh_training.shape)\n",
    "\n",
    "min_ind = np.min([cosmic_training.shape[0],valid_training.shape[0],oh_training.shape[0]])\n",
    "print(\"minimum number of training set: \"+str(min_ind))\n",
    "\n",
    "# valid_training is the smallest data set so we should reduce the other ones\n",
    "cosmic_training = cosmic_training[0:min_ind-1,:]\n",
    "valid_training = valid_training[0:min_ind-1,:]\n",
    "oh_training = oh_training[0:min_ind-1,:]\n",
    "\n",
    "\n",
    "print(cosmic_training.shape)\n",
    "print(valid_training.shape)\n",
    "print(oh_training.shape)\n",
    "\n",
    "# label the classes\n",
    "labels = np.append(np.zeros(cosmic_training.shape[0],dtype=int),\n",
    "                   np.ones(valid_training.shape[0],dtype=int))\n",
    "labels = np.append(labels,np.zeros(oh_training.shape[0],dtype=int)+1)\n",
    "print(labels.shape)\n",
    "print(labels[0:10])\n",
    "training = np.append(cosmic_training,valid_training,axis=0)\n",
    "training = np.append(training,oh_training,axis=0)\n",
    "print(training.shape)"
   ]
  },
  {
   "cell_type": "code",
   "execution_count": 70,
   "metadata": {},
   "outputs": [],
   "source": [
    "classifier = RandomForestClassifier(n_estimators=200,max_depth=15)\n",
    "forest = classifier.fit(training, labels)"
   ]
  },
  {
   "cell_type": "code",
   "execution_count": 72,
   "metadata": {},
   "outputs": [
    {
     "name": "stdout",
     "output_type": "stream",
     "text": [
      "[0 0 0 0 0 0 0 0 0 0]\n",
      "1\n",
      "             precision    recall  f1-score   support\n",
      "\n",
      " Cosmic Ray       0.98      0.89      0.93       500\n",
      " Valid Data       0.95      0.99      0.97      1000\n",
      "\n",
      "avg / total       0.96      0.96      0.95      1500\n",
      "\n"
     ]
    }
   ],
   "source": [
    "ypred = forest.predict(testing)\n",
    "print(ypred[0:10])\n",
    "#print(test_cosmic)\n",
    "print(len(np.where(ypred == 1)))\n",
    "print(metrics.classification_report(test_labels,ypred,target_names=['Cosmic Ray','Valid Data']))\n",
    "#print(metrics.classification_report(test_labels,ypred,target_names=['Cosmic Ray','Valid Data','OH lines']))"
   ]
  },
  {
   "cell_type": "markdown",
   "metadata": {},
   "source": [
    "The precision is the ratio tp / (tp + fp) where tp is the number of true positives and fp the number of false positives. The precision is intuitively the ability of the classifier not to label as positive a sample that is negative.\n",
    "\n",
    "The recall is the ratio tp / (tp + fn) where tp is the number of true positives and fn the number of false negatives. The recall is intuitively the ability of the classifier to find all the positive samples.\n",
    "\n",
    "The F-beta score can be interpreted as a weighted harmonic mean of the precision and recall, where an F-beta score reaches its best value at 1 and worst score at 0.\n",
    "\n",
    "The F-beta score weights recall more than precision by a factor of beta. beta == 1.0 means recall and precision are equally important.\n",
    "\n",
    "The support is the number of occurrences of each class in y_true"
   ]
  },
  {
   "cell_type": "code",
   "execution_count": 73,
   "metadata": {},
   "outputs": [
    {
     "name": "stdout",
     "output_type": "stream",
     "text": [
      "Feature ranking:\n",
      "1. feature 12 (0.319388)\n",
      "2. feature 7 (0.139417)\n",
      "3. feature 17 (0.074473)\n",
      "4. feature 13 (0.058979)\n",
      "5. feature 11 (0.052029)\n",
      "6. feature 19 (0.049831)\n",
      "7. feature 14 (0.034722)\n",
      "8. feature 18 (0.022333)\n",
      "9. feature 5 (0.021952)\n",
      "10. feature 15 (0.020703)\n",
      "11. feature 24 (0.019889)\n",
      "12. feature 1 (0.019566)\n",
      "13. feature 23 (0.019433)\n",
      "14. feature 6 (0.019117)\n",
      "15. feature 8 (0.017890)\n",
      "16. feature 16 (0.015908)\n",
      "17. feature 0 (0.015255)\n",
      "18. feature 9 (0.013170)\n",
      "19. feature 22 (0.011730)\n",
      "20. feature 20 (0.010570)\n",
      "21. feature 21 (0.010425)\n",
      "22. feature 2 (0.010072)\n",
      "23. feature 10 (0.009737)\n",
      "24. feature 4 (0.007121)\n",
      "25. feature 3 (0.006290)\n"
     ]
    },
    {
     "data": {
      "text/plain": [
       "<matplotlib.text.Text at 0x113d79550>"
      ]
     },
     "execution_count": 73,
     "metadata": {},
     "output_type": "execute_result"
    },
    {
     "data": {
      "image/png": "[encoded data removed]",
      "text/plain": [
       "<matplotlib.figure.Figure at 0x11492bc88>"
      ]
     },
     "metadata": {},
     "output_type": "display_data"
    }
   ],
   "source": [
    "importances = forest.feature_importances_\n",
    "std = np.std([tree.feature_importances_ for tree in forest.estimators_],\n",
    "             axis=0)\n",
    "indices = np.argsort(importances)[::-1]\n",
    "\n",
    "# Print the feature ranking\n",
    "print(\"Feature ranking:\")\n",
    "\n",
    "for f in range(training.shape[1]):\n",
    "    print(\"%d. feature %d (%f)\" % (f + 1, indices[f], importances[indices[f]]))\n",
    "\n",
    "# Plot the feature importances of the forest\n",
    "plt.figure(figsize=(10,5))\n",
    "plt.title(\"Feature importances\")\n",
    "plt.bar(range(training.shape[1]), importances[indices],\n",
    "       color=\"r\", yerr=std[indices], align=\"center\")\n",
    "plt.xticks(range(training.shape[1]), indices)\n",
    "plt.xlim([-1, training.shape[1]])\n",
    "plt.xlabel('Feature #')"
   ]
  }
 ],
 "metadata": {
  "kernelspec": {
   "display_name": "Python 3",
   "language": "python",
   "name": "python3"
  },
  "language_info": {
   "codemirror_mode": {
    "name": "ipython",
    "version": 3
   },
   "file_extension": ".py",
   "mimetype": "text/x-python",
   "name": "python",
   "nbconvert_exporter": "python",
   "pygments_lexer": "ipython3",
   "version": "3.6.1"
  }
 },
 "nbformat": 4,
 "nbformat_minor": 2
}
