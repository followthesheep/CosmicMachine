{
 "cells": [
  {
   "cell_type": "code",
   "execution_count": 85,
   "metadata": {
    "collapsed": true
   },
   "outputs": [],
   "source": [
    "from sklearn.tree import DecisionTreeClassifier\n",
    "from sklearn.ensemble import RandomForestClassifier\n",
    "from sklearn import metrics\n",
    "import matplotlib.pyplot as plt\n",
    "from astropy.io import fits\n",
    "%matplotlib inline"
   ]
  },
  {
   "cell_type": "code",
   "execution_count": 54,
   "metadata": {
    "collapsed": true
   },
   "outputs": [],
   "source": [
    "def prep_input(data,positions,npix=3):\n",
    "    '''\n",
    "    Prepare a dataset for processing by flattening the arrays and returning \n",
    "    an array of the form: [nsamples, nfeatures]\n",
    "    \n",
    "    Currently will not work near edges\n",
    "    \n",
    "    Inputs\n",
    "    ------\n",
    "    data - input 2D array of data\n",
    "    positions - central pixel of the data [npoints, positions]\n",
    "    \n",
    "    Keywords\n",
    "    ------\n",
    "    npix - the box size for extraction (default: 3)\n",
    "    \n",
    "    '''\n",
    "    s = np.shape(positions)\n",
    "    data_shape = np.shape(data)\n",
    "    nfeatures = npix*npix\n",
    "    outarr = np.ones((s[0],nfeatures))\n",
    "    \n",
    "    # need to account for odd vs even npix for subscripting\n",
    "    if (npix % 2) == 0:\n",
    "        extra = 0\n",
    "    else:\n",
    "        extra = 1\n",
    "        \n",
    "    for i in np.arange(s[0]):\n",
    "        pos = positions[i,:]\n",
    "        pos = np.flip(pos,axis=0) # this takes care of the weird python flip of arrays\n",
    "        if (pos[0] > int(npix/2)) & (pos[0] < data_shape[0]-int(npix/2)+extra) & \\\n",
    "           (pos[1] > int(npix/2)) & (pos[1] < data_shape[1]-int(npix/2)+extra):\n",
    "                subarr = data[pos[0]-int(npix/2):pos[0]+int(npix/2)+extra,\n",
    "                              pos[1]-int(npix/2):pos[1]+int(npix/2)+extra]\n",
    "                \n",
    "                #subarr = subarr/np.median(subarr)\n",
    "                outarr[i,:] = subarr.flatten()\n",
    "    return outarr\n",
    "            \n",
    "            \n",
    "            \n",
    "            "
   ]
  },
  {
   "cell_type": "code",
   "execution_count": 13,
   "metadata": {},
   "outputs": [
    {
     "name": "stdout",
     "output_type": "stream",
     "text": [
      "0.253609\n"
     ]
    }
   ],
   "source": [
    "hdu = fits.open('/u/tdo/osiris/drs_me/tests/test_emission_line/s150531_a025001.fits')\n",
    "data = hdu[0].data\n",
    "print(data[1525,842])"
   ]
  },
  {
   "cell_type": "code",
   "execution_count": 55,
   "metadata": {},
   "outputs": [
    {
     "name": "stdout",
     "output_type": "stream",
     "text": [
      "47 2019 1 4.13523\n",
      "87 2008 0 0.0762438\n",
      "111 2021 1 1.01795\n",
      "112 2021 1 45.6858\n",
      "113 2021 1 0.417272\n",
      "743 1495 0 0.0554285\n",
      "752 1495 0 0.0448883\n",
      "781 1526 0 0.0403521\n",
      "781 1492 0 0.0700788\n",
      "774 1557 0 0.0390926\n",
      "588 1477 0 0.0651828\n",
      "624 1472 0 0.0722948\n",
      "671 1441 0 0.0453997\n",
      "738 1401 0 0.0730145\n",
      "1023 1540 0 0.044519\n",
      "1024 1602 0 0.0299634\n",
      "875 1613 0 0.0893221\n",
      "843 1525 1 11.824\n",
      "883 1555 1 37.6068\n",
      "886 1612 1 0.338935\n",
      "891 1614 1 51.8197\n",
      "833 1602 1 26.8241\n",
      "818 1603 1 11.0159\n",
      "858 1495 1 34.1969\n",
      "839 1496 1 5.62841\n",
      "951 1402 1 11.1033\n",
      "950 1404 1 6.49746\n",
      "1833 327 1 0.988149\n",
      "651 1494 0 0.0653059\n",
      "673 1493 0 0.237899\n",
      "657 1502 0 0.0629005\n",
      "667 1500 0 0.0651733\n",
      "638 1511 1 2.32374\n",
      "627 1498 1 1.00945\n",
      "590 1498 1 0.658627\n",
      "580 1481 1 1.37421\n",
      "565 1524 1 0.730799\n"
     ]
    }
   ],
   "source": [
    "x,y,cosmic = np.loadtxt('mask/badpixels.txt',unpack=True,dtype=int)\n",
    "for i in np.arange(len(x)):\n",
    "    print(x[i],y[i],cosmic[i],data[y[i],x[i]])"
   ]
  },
  {
   "cell_type": "code",
   "execution_count": 56,
   "metadata": {},
   "outputs": [
    {
     "data": {
      "text/plain": [
       "array([[  0.04779563,   0.08932205,   0.06393269,   0.14738329,\n",
       "          4.13522673,   0.10275067,   0.05587364,   0.09025013,\n",
       "          0.05950069],\n",
       "       [  0.09740005,   0.08869702,   0.08451124,   0.06461454,\n",
       "          0.07624383,   0.07735184,   0.07060912,   0.07846931,\n",
       "          0.08435025],\n",
       "       [  0.04659293,   0.07197282,   0.4809489 ,   0.0694443 ,\n",
       "          1.01795137,  45.6857605 ,   0.05350611,   0.05639449,\n",
       "          0.42256567]])"
      ]
     },
     "execution_count": 56,
     "metadata": {},
     "output_type": "execute_result"
    }
   ],
   "source": [
    "arr = np.transpose(np.array([x,y]))\n",
    "\n",
    "training = prep_input(data,arr)\n",
    "training[0:3,:]"
   ]
  },
  {
   "cell_type": "code",
   "execution_count": 82,
   "metadata": {
    "collapsed": true
   },
   "outputs": [],
   "source": [
    "classifier = RandomForestClassifier(n_estimators=100,max_depth=3)\n",
    "tree = classifier.fit(training, cosmic)"
   ]
  },
  {
   "cell_type": "code",
   "execution_count": 88,
   "metadata": {},
   "outputs": [
    {
     "name": "stdout",
     "output_type": "stream",
     "text": [
      "[[  7.10826293e-02   2.02584535e-01   7.22948015e-02   3.67279172e-01\n",
      "    1.70124035e+01   1.64495766e-01   6.07791506e-02   1.74789771e-01\n",
      "    4.52387035e-02]\n",
      " [  6.19534440e-02   1.66531846e-01   1.00089565e-01   2.99965650e-01\n",
      "    1.30276499e+01   3.99232268e+00   6.67358488e-02   1.55215070e-01\n",
      "    8.62916186e-02]\n",
      " [  5.88093661e-02   6.12242445e-02   5.98226711e-02   4.07025218e-02\n",
      "    5.26727363e-02   6.52869195e-02   5.53622469e-02   6.16598688e-02\n",
      "    4.77198735e-02]\n",
      " [  4.75778207e-02   1.50328487e-01   6.71619996e-02   2.82010347e-01\n",
      "    1.25245771e+01   1.65243909e-01   6.20292053e-02   1.45820722e-01\n",
      "    7.17076510e-02]\n",
      " [  6.10916652e-02   5.15079163e-02   4.92066778e-02   6.78154379e-02\n",
      "    5.71520999e-02   6.15462288e-02   3.77762578e-02   5.41216657e-02\n",
      "    4.64982279e-02]\n",
      " [  5.50876148e-02   5.62619083e-02   6.20765537e-02   6.22564852e-02\n",
      "    7.08742812e-02   6.73324615e-02   4.44148034e-02   2.07395363e-03\n",
      "    1.07561484e-01]\n",
      " [  5.81085794e-02   6.74745142e-02   7.07795843e-02   6.79006726e-02\n",
      "    8.45301822e-02   6.34970739e-02   4.30889875e-02   5.08639477e-02\n",
      "    5.02294488e-02]]\n",
      "[1 1 0 1 0 0 0]\n",
      "[1 1 0 1 0 0 0]\n",
      "             precision    recall  f1-score   support\n",
      "\n",
      "          0       1.00      1.00      1.00         4\n",
      "          1       1.00      1.00      1.00         3\n",
      "\n",
      "avg / total       1.00      1.00      1.00         7\n",
      "\n"
     ]
    }
   ],
   "source": [
    "# cosmic_test.txt is a manually determined set points for testing\n",
    "test_x,test_y,test_cosmic = np.loadtxt('mask/cosmic_test.txt',unpack=True,dtype=int)\n",
    "testing = prep_input(data,np.transpose([test_x,test_y]))\n",
    "print(testing)\n",
    "\n",
    "ypred = tree.predict(testing)\n",
    "print(ypred)\n",
    "print(test_cosmic)\n",
    "\n",
    "print(metrics.classification_report(ypred, test_cosmic))\n"
   ]
  },
  {
   "cell_type": "code",
   "execution_count": 80,
   "metadata": {
    "collapsed": true
   },
   "outputs": [],
   "source": [
    "def visualize_classifier(model, inX, y, ax=None, cmap='rainbow'):\n",
    "    # visual just two of the features\n",
    "    ax = ax or plt.gca()\n",
    "    \n",
    "    \n",
    "    # Plot the training points\n",
    "    X = np.array([inX[:,0],inX[:,4]]).transpose()\n",
    "    ax.scatter(X[:, 0], X[:, 1], c=y, s=30, cmap=cmap,\n",
    "               clim=(y.min(), y.max()), zorder=3)\n",
    "    ax.axis('tight')\n",
    "    ax.set_yscale('log')\n",
    "    #ax.axis('off')\n",
    "    xlim = ax.get_xlim()\n",
    "    ylim = ax.get_ylim()\n",
    "    \n",
    "    # fit the estimator\n",
    "    model.fit(X, y)\n",
    "    xx, yy = np.meshgrid(np.linspace(*xlim, num=200),\n",
    "                         np.linspace(*ylim, num=200))\n",
    "    Z = model.predict(np.c_[xx.ravel(), yy.ravel()]).reshape(xx.shape)\n",
    "\n",
    "    # Create a color plot with the results\n",
    "    n_classes = len(np.unique(y))\n",
    "    contours = ax.contourf(xx, yy, Z, alpha=0.3,\n",
    "                           levels=np.arange(n_classes + 1) - 0.5,\n",
    "                           cmap=cmap, clim=(y.min(), y.max()),\n",
    "                           zorder=1)\n",
    "\n",
    "    ax.set(xlim=xlim, ylim=ylim)"
   ]
  },
  {
   "cell_type": "code",
   "execution_count": 79,
   "metadata": {},
   "outputs": [
    {
     "data": {
      "image/png": "[encoded data removed]",
      "text/plain": [
       "<matplotlib.figure.Figure at 0x1193ef128>"
      ]
     },
     "metadata": {},
     "output_type": "display_data"
    }
   ],
   "source": [
    "visualize_classifier(classifier,training,cosmic)"
   ]
  },
  {
   "cell_type": "code",
   "execution_count": 72,
   "metadata": {},
   "outputs": [
    {
     "data": {
      "text/plain": [
       "array([[  8.93220529e-02,   4.13522673e+00],\n",
       "       [  8.86970237e-02,   7.62438327e-02],\n",
       "       [  7.19728172e-02,   1.01795137e+00],\n",
       "       [  4.80948895e-01,   4.56857605e+01],\n",
       "       [  1.07343666e-01,   4.17271882e-01],\n",
       "       [  5.71331605e-02,   5.54285385e-02],\n",
       "       [  5.22371121e-02,   4.48883101e-02],\n",
       "       [  5.18298969e-02,   4.03521284e-02],\n",
       "       [  5.41784838e-02,   7.00787976e-02],\n",
       "       [  5.49929142e-02,   3.90926041e-02],\n",
       "       [  1.28869221e-01,   6.51827529e-02],\n",
       "       [  5.81085794e-02,   7.22948015e-02],\n",
       "       [  3.69239487e-02,   4.53996956e-02],\n",
       "       [  4.28995863e-02,   7.30145276e-02],\n",
       "       [  6.86582774e-02,   4.45189737e-02],\n",
       "       [  4.57974412e-02,   2.99634207e-02],\n",
       "       [  4.39507701e-02,   8.93220529e-02],\n",
       "       [  1.37326032e-01,   1.18239784e+01],\n",
       "       [  3.57941657e-01,   3.76068001e+01],\n",
       "       [  1.08906239e-01,   3.38935137e-01],\n",
       "       [  5.09463370e-01,   5.18196907e+01],\n",
       "       [  2.76887000e-01,   2.68241081e+01],\n",
       "       [  1.53406277e-01,   1.10158939e+01],\n",
       "       [  3.20004404e-01,   3.41969376e+01],\n",
       "       [  7.36869052e-02,   5.62840700e+00],\n",
       "       [  3.14587504e-01,   1.11033382e+01],\n",
       "       [  0.00000000e+00,   6.49746227e+00],\n",
       "       [  2.60806754e-02,   9.88148928e-01],\n",
       "       [  5.23602255e-02,   6.53058589e-02],\n",
       "       [  2.54277210e+01,   2.37898573e-01],\n",
       "       [  3.66114341e-02,   6.29004538e-02],\n",
       "       [  4.25776020e-02,   6.51732832e-02],\n",
       "       [  7.47286156e-02,   2.32373714e+00],\n",
       "       [  5.75593151e-02,   1.00944722e+00],\n",
       "       [  4.05699424e-02,   6.58627033e-01],\n",
       "       [  5.70668690e-02,   1.37420726e+00],\n",
       "       [  7.81567991e-02,   7.30798721e-01]])"
      ]
     },
     "execution_count": 72,
     "metadata": {},
     "output_type": "execute_result"
    }
   ],
   "source": [
    "np.array([training[:,1],training[:,4]]).transpose()"
   ]
  }
 ],
 "metadata": {
  "kernelspec": {
   "display_name": "Python 3",
   "language": "python",
   "name": "python3"
  },
  "language_info": {
   "codemirror_mode": {
    "name": "ipython",
    "version": 3
   },
   "file_extension": ".py",
   "mimetype": "text/x-python",
   "name": "python",
   "nbconvert_exporter": "python",
   "pygments_lexer": "ipython3",
   "version": "3.6.1"
  }
 },
 "nbformat": 4,
 "nbformat_minor": 2
}
